{
 "cells": [
  {
   "cell_type": "code",
   "execution_count": null,
   "metadata": {},
   "outputs": [],
   "source": [
    "from alpaca.data import CryptoHistoricalDataClient, StockHistoricalDataClient\n",
    "from alpaca.data.requests import CryptoBarsRequest, StockBarsRequest\n",
    "from alpaca.data.timeframe import TimeFrame\n",
    "\n",
    "from alpaca.data.live import CryptoDataStream, StockDataStream\n",
    "\n",
    "import nest_asyncio\n",
    "from datetime import datetime\n",
    "\n",
    "nest_asyncio.apply()"
   ]
  },
  {
   "cell_type": "code",
   "execution_count": null,
   "metadata": {},
   "outputs": [],
   "source": [
    "# Credentials\n",
    "endpoint = \"https://paper-api.alpaca.markets\"\n",
    "api_key=\"PKOU4EMHRPZ6G3Q0MM7Q\"\n",
    "secret_key=\"nZOKw98G8KL8i5yVaJfLZN3w9ucbv0lEh1bju8D3\"\n",
    "\n"
   ]
  },
  {
   "cell_type": "code",
   "execution_count": null,
   "metadata": {},
   "outputs": [],
   "source": [
    "\n",
    "# # no keys required.\n",
    "# crypto_client = CryptoHistoricalDataClient(api_key, secret_key)\n",
    "\n",
    "# # keys required\n",
    "# stock_client = StockHistoricalDataClient(api_key,  secret_key)\n",
    "\n"
   ]
  },
  {
   "cell_type": "code",
   "execution_count": null,
   "metadata": {},
   "outputs": [],
   "source": [
    "# keys are required for live data\n",
    "# crypto_client = CryptoDataStream(api_key, secret_key)\n",
    "\n",
    "# keys required\n",
    "# stock_client = StockDataStream(api_key, secret_key)"
   ]
  },
  {
   "cell_type": "code",
   "execution_count": null,
   "metadata": {},
   "outputs": [],
   "source": [
    "wss_client = CryptoDataStream(api_key, secret_key)\n",
    "\n",
    "async def bar_handler(bar):\n",
    "    print(bar)\n",
    "\n",
    "wss_client.subscribe_bars(bar_handler, \"/USD\")\n",
    "wss_client.run()\n",
    "\n"
   ]
  },
  {
   "cell_type": "code",
   "execution_count": null,
   "metadata": {},
   "outputs": [],
   "source": [
    "crypto_client = CryptoHistoricalDataClient()\n",
    "\n",
    "request_params = CryptoBarsRequest(\n",
    "    symbol_or_symbols=[\"BTC/USD\", \"ETH/USD\"],\n",
    "    timeframe=TimeFrame.Day,\n",
    "    start=datetime(2022, 7, 1),\n",
    "    end=datetime(2022, 9, 1),\n",
    ")\n",
    "\n",
    "bars = crypto_client.get_crypto_bars(request_params)\n",
    "\n",
    "# convert to dataframe\n",
    "bars.df\n",
    "\n",
    "# access bars as list - important to note that you must access by symbol key\n",
    "# even for a single symbol request - models are agnostic to number of symbols\n",
    "bars[\"BTC/USD\"]"
   ]
  }
 ],
 "metadata": {
  "kernelspec": {
   "display_name": "Python 3",
   "language": "python",
   "name": "python3"
  },
  "language_info": {
   "codemirror_mode": {
    "name": "ipython",
    "version": 3
   },
   "file_extension": ".py",
   "mimetype": "text/x-python",
   "name": "python",
   "nbconvert_exporter": "python",
   "pygments_lexer": "ipython3",
   "version": "3.11.2"
  },
  "orig_nbformat": 4
 },
 "nbformat": 4,
 "nbformat_minor": 2
}
