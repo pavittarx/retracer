{
 "cells": [
  {
   "cell_type": "code",
   "execution_count": 17,
   "metadata": {},
   "outputs": [],
   "source": [
    "from alpaca.data import CryptoHistoricalDataClient, StockHistoricalDataClient\n",
    "from alpaca.data.requests import CryptoBarsRequest, StockBarsRequest\n",
    "from alpaca.data.timeframe import TimeFrame\n",
    "\n",
    "from alpaca.data.live import CryptoDataStream, StockDataStream\n",
    "\n",
    "import nest_asyncio\n",
    "from datetime import datetime\n",
    "\n",
    "nest_asyncio.apply()"
   ]
  },
  {
   "cell_type": "code",
   "execution_count": null,
   "metadata": {},
   "outputs": [],
   "source": [
    "# Credentials\n",
    "endpoint = \"https://paper-api.alpaca.markets\"\n",
    "api_key=\"PKOU4EMHRPZ6G3Q0MM7Q\"\n",
    "secret_key=\"nZOKw98G8KL8i5yVaJfLZN3w9ucbv0lEh1bju8D3\"\n",
    "\n"
   ]
  },
  {
   "cell_type": "code",
   "execution_count": null,
   "metadata": {},
   "outputs": [],
   "source": [
    "\n",
    "# # no keys required.\n",
    "# crypto_client = CryptoHistoricalDataClient(api_key, secret_key)\n",
    "\n",
    "# # keys required\n",
    "# stock_client = StockHistoricalDataClient(api_key,  secret_key)\n",
    "\n"
   ]
  },
  {
   "cell_type": "code",
   "execution_count": null,
   "metadata": {},
   "outputs": [],
   "source": [
    "# keys are required for live data\n",
    "# crypto_client = CryptoDataStream(api_key, secret_key)\n",
    "\n",
    "# keys required\n",
    "# stock_client = StockDataStream(api_key, secret_key)"
   ]
  },
  {
   "cell_type": "code",
   "execution_count": null,
   "metadata": {},
   "outputs": [],
   "source": [
    "wss_client = CryptoDataStream(api_key, secret_key)\n",
    "\n",
    "async def bar_handler(bar):\n",
    "    print(bar)\n",
    "\n",
    "wss_client.subscribe_bars(bar_handler, \"/USD\")\n",
    "wss_client.run()\n",
    "\n"
   ]
  },
  {
   "cell_type": "code",
   "execution_count": 18,
   "metadata": {},
   "outputs": [
    {
     "ename": "APIError",
     "evalue": "{\"message\":\"Invalid location: CryptoFeed.US\"}\n",
     "output_type": "error",
     "traceback": [
      "\u001b[0;31m---------------------------------------------------------------------------\u001b[0m",
      "\u001b[0;31mHTTPError\u001b[0m                                 Traceback (most recent call last)",
      "File \u001b[0;32m/Library/Frameworks/Python.framework/Versions/3.11/lib/python3.11/site-packages/alpaca/common/rest.py:196\u001b[0m, in \u001b[0;36mRESTClient._one_request\u001b[0;34m(self, method, url, opts, retry)\u001b[0m\n\u001b[1;32m    195\u001b[0m \u001b[39mtry\u001b[39;00m:\n\u001b[0;32m--> 196\u001b[0m     response\u001b[39m.\u001b[39;49mraise_for_status()\n\u001b[1;32m    197\u001b[0m \u001b[39mexcept\u001b[39;00m HTTPError \u001b[39mas\u001b[39;00m http_error:\n\u001b[1;32m    198\u001b[0m     \u001b[39m# retry if we hit Rate Limit\u001b[39;00m\n",
      "File \u001b[0;32m/Library/Frameworks/Python.framework/Versions/3.11/lib/python3.11/site-packages/requests/models.py:1021\u001b[0m, in \u001b[0;36mResponse.raise_for_status\u001b[0;34m(self)\u001b[0m\n\u001b[1;32m   1020\u001b[0m \u001b[39mif\u001b[39;00m http_error_msg:\n\u001b[0;32m-> 1021\u001b[0m     \u001b[39mraise\u001b[39;00m HTTPError(http_error_msg, response\u001b[39m=\u001b[39m\u001b[39mself\u001b[39m)\n",
      "\u001b[0;31mHTTPError\u001b[0m: 400 Client Error: Bad Request for url: https://data.alpaca.markets/v1beta3/crypto/CryptoFeed.US/bars?start=2022-07-01T00%3A00%3A00Z&end=2022-09-01T00%3A00%3A00Z&timeframe=1Day&symbols=BTC%2FUSD%2CETH%2FUSD",
      "\nDuring handling of the above exception, another exception occurred:\n",
      "\u001b[0;31mAPIError\u001b[0m                                  Traceback (most recent call last)",
      "Cell \u001b[0;32mIn[18], line 10\u001b[0m\n\u001b[1;32m      1\u001b[0m crypto_client \u001b[39m=\u001b[39m CryptoHistoricalDataClient()\n\u001b[1;32m      3\u001b[0m request_params \u001b[39m=\u001b[39m CryptoBarsRequest(\n\u001b[1;32m      4\u001b[0m     symbol_or_symbols\u001b[39m=\u001b[39m[\u001b[39m\"\u001b[39m\u001b[39mBTC/USD\u001b[39m\u001b[39m\"\u001b[39m, \u001b[39m\"\u001b[39m\u001b[39mETH/USD\u001b[39m\u001b[39m\"\u001b[39m],\n\u001b[1;32m      5\u001b[0m     timeframe\u001b[39m=\u001b[39mTimeFrame\u001b[39m.\u001b[39mDay,\n\u001b[1;32m      6\u001b[0m     start\u001b[39m=\u001b[39mdatetime(\u001b[39m2022\u001b[39m, \u001b[39m7\u001b[39m, \u001b[39m1\u001b[39m),\n\u001b[1;32m      7\u001b[0m     end\u001b[39m=\u001b[39mdatetime(\u001b[39m2022\u001b[39m, \u001b[39m9\u001b[39m, \u001b[39m1\u001b[39m),\n\u001b[1;32m      8\u001b[0m )\n\u001b[0;32m---> 10\u001b[0m bars \u001b[39m=\u001b[39m crypto_client\u001b[39m.\u001b[39;49mget_crypto_bars(request_params)\n\u001b[1;32m     12\u001b[0m \u001b[39m# convert to dataframe\u001b[39;00m\n\u001b[1;32m     13\u001b[0m bars\u001b[39m.\u001b[39mdf\n",
      "File \u001b[0;32m/Library/Frameworks/Python.framework/Versions/3.11/lib/python3.11/site-packages/alpaca/data/historical/crypto.py:88\u001b[0m, in \u001b[0;36mCryptoHistoricalDataClient.get_crypto_bars\u001b[0;34m(self, request_params, feed)\u001b[0m\n\u001b[1;32m     85\u001b[0m params \u001b[39m=\u001b[39m request_params\u001b[39m.\u001b[39mto_request_fields()\n\u001b[1;32m     87\u001b[0m \u001b[39m# paginated get request for crypto market data api\u001b[39;00m\n\u001b[0;32m---> 88\u001b[0m raw_bars \u001b[39m=\u001b[39m \u001b[39mself\u001b[39;49m\u001b[39m.\u001b[39;49m_data_get(\n\u001b[1;32m     89\u001b[0m     endpoint_asset_class\u001b[39m=\u001b[39;49m\u001b[39m\"\u001b[39;49m\u001b[39mcrypto\u001b[39;49m\u001b[39m\"\u001b[39;49m,\n\u001b[1;32m     90\u001b[0m     endpoint_data_type\u001b[39m=\u001b[39;49m\u001b[39m\"\u001b[39;49m\u001b[39mbars\u001b[39;49m\u001b[39m\"\u001b[39;49m,\n\u001b[1;32m     91\u001b[0m     api_version\u001b[39m=\u001b[39;49m\u001b[39m\"\u001b[39;49m\u001b[39mv1beta3\u001b[39;49m\u001b[39m\"\u001b[39;49m,\n\u001b[1;32m     92\u001b[0m     feed\u001b[39m=\u001b[39;49mfeed,\n\u001b[1;32m     93\u001b[0m     \u001b[39m*\u001b[39;49m\u001b[39m*\u001b[39;49mparams,\n\u001b[1;32m     94\u001b[0m )\n\u001b[1;32m     96\u001b[0m \u001b[39mif\u001b[39;00m \u001b[39mself\u001b[39m\u001b[39m.\u001b[39m_use_raw_data:\n\u001b[1;32m     97\u001b[0m     \u001b[39mreturn\u001b[39;00m raw_bars\n",
      "File \u001b[0;32m/Library/Frameworks/Python.framework/Versions/3.11/lib/python3.11/site-packages/alpaca/data/historical/crypto.py:358\u001b[0m, in \u001b[0;36mCryptoHistoricalDataClient._data_get\u001b[0;34m(self, endpoint_asset_class, endpoint_data_type, api_version, feed, symbol_or_symbols, limit, page_limit, extension, **kwargs)\u001b[0m\n\u001b[1;32m    355\u001b[0m params[\u001b[39m\"\u001b[39m\u001b[39mlimit\u001b[39m\u001b[39m\"\u001b[39m] \u001b[39m=\u001b[39m actual_limit\n\u001b[1;32m    356\u001b[0m params[\u001b[39m\"\u001b[39m\u001b[39mpage_token\u001b[39m\u001b[39m\"\u001b[39m] \u001b[39m=\u001b[39m page_token\n\u001b[0;32m--> 358\u001b[0m response \u001b[39m=\u001b[39m \u001b[39mself\u001b[39;49m\u001b[39m.\u001b[39;49mget(path\u001b[39m=\u001b[39;49mpath, data\u001b[39m=\u001b[39;49mparams, api_version\u001b[39m=\u001b[39;49mapi_version)\n\u001b[1;32m    360\u001b[0m \u001b[39m# TODO: Merge parsing if possible\u001b[39;00m\n\u001b[1;32m    361\u001b[0m \u001b[39mif\u001b[39;00m (\n\u001b[1;32m    362\u001b[0m     extension \u001b[39m==\u001b[39m DataExtensionType\u001b[39m.\u001b[39mLATEST\n\u001b[1;32m    363\u001b[0m     \u001b[39mor\u001b[39;00m extension \u001b[39m==\u001b[39m DataExtensionType\u001b[39m.\u001b[39mSNAPSHOT\n\u001b[1;32m    364\u001b[0m ):\n",
      "File \u001b[0;32m/Library/Frameworks/Python.framework/Versions/3.11/lib/python3.11/site-packages/alpaca/common/rest.py:221\u001b[0m, in \u001b[0;36mRESTClient.get\u001b[0;34m(self, path, data, **kwargs)\u001b[0m\n\u001b[1;32m    210\u001b[0m \u001b[39mdef\u001b[39;00m \u001b[39mget\u001b[39m(\u001b[39mself\u001b[39m, path: \u001b[39mstr\u001b[39m, data: Union[\u001b[39mdict\u001b[39m, \u001b[39mstr\u001b[39m] \u001b[39m=\u001b[39m \u001b[39mNone\u001b[39;00m, \u001b[39m*\u001b[39m\u001b[39m*\u001b[39mkwargs) \u001b[39m-\u001b[39m\u001b[39m>\u001b[39m HTTPResult:\n\u001b[1;32m    211\u001b[0m \u001b[39m    \u001b[39m\u001b[39m\"\"\"Performs a single GET request\u001b[39;00m\n\u001b[1;32m    212\u001b[0m \n\u001b[1;32m    213\u001b[0m \u001b[39m    Args:\u001b[39;00m\n\u001b[0;32m   (...)\u001b[0m\n\u001b[1;32m    219\u001b[0m \u001b[39m        dict: The response\u001b[39;00m\n\u001b[1;32m    220\u001b[0m \u001b[39m    \"\"\"\u001b[39;00m\n\u001b[0;32m--> 221\u001b[0m     \u001b[39mreturn\u001b[39;00m \u001b[39mself\u001b[39;49m\u001b[39m.\u001b[39;49m_request(\u001b[39m\"\u001b[39;49m\u001b[39mGET\u001b[39;49m\u001b[39m\"\u001b[39;49m, path, data, \u001b[39m*\u001b[39;49m\u001b[39m*\u001b[39;49mkwargs)\n",
      "File \u001b[0;32m/Library/Frameworks/Python.framework/Versions/3.11/lib/python3.11/site-packages/alpaca/common/rest.py:129\u001b[0m, in \u001b[0;36mRESTClient._request\u001b[0;34m(self, method, path, data, base_url, api_version)\u001b[0m\n\u001b[1;32m    127\u001b[0m \u001b[39mwhile\u001b[39;00m retry \u001b[39m>\u001b[39m\u001b[39m=\u001b[39m \u001b[39m0\u001b[39m:\n\u001b[1;32m    128\u001b[0m     \u001b[39mtry\u001b[39;00m:\n\u001b[0;32m--> 129\u001b[0m         \u001b[39mreturn\u001b[39;00m \u001b[39mself\u001b[39;49m\u001b[39m.\u001b[39;49m_one_request(method, url, opts, retry)\n\u001b[1;32m    130\u001b[0m     \u001b[39mexcept\u001b[39;00m RetryException:\n\u001b[1;32m    131\u001b[0m         time\u001b[39m.\u001b[39msleep(\u001b[39mself\u001b[39m\u001b[39m.\u001b[39m_retry_wait)\n",
      "File \u001b[0;32m/Library/Frameworks/Python.framework/Versions/3.11/lib/python3.11/site-packages/alpaca/common/rest.py:205\u001b[0m, in \u001b[0;36mRESTClient._one_request\u001b[0;34m(self, method, url, opts, retry)\u001b[0m\n\u001b[1;32m    202\u001b[0m     \u001b[39m# raise API error for all other errors\u001b[39;00m\n\u001b[1;32m    203\u001b[0m     error \u001b[39m=\u001b[39m response\u001b[39m.\u001b[39mtext\n\u001b[0;32m--> 205\u001b[0m     \u001b[39mraise\u001b[39;00m APIError(error, http_error)\n\u001b[1;32m    207\u001b[0m \u001b[39mif\u001b[39;00m response\u001b[39m.\u001b[39mtext \u001b[39m!=\u001b[39m \u001b[39m\"\u001b[39m\u001b[39m\"\u001b[39m:\n\u001b[1;32m    208\u001b[0m     \u001b[39mreturn\u001b[39;00m response\u001b[39m.\u001b[39mjson()\n",
      "\u001b[0;31mAPIError\u001b[0m: {\"message\":\"Invalid location: CryptoFeed.US\"}\n"
     ]
    }
   ],
   "source": [
    "crypto_client = CryptoHistoricalDataClient()\n",
    "\n",
    "request_params = CryptoBarsRequest(\n",
    "    symbol_or_symbols=[\"BTC/USD\", \"ETH/USD\"],\n",
    "    timeframe=TimeFrame.Day,\n",
    "    start=datetime(2022, 7, 1),\n",
    "    end=datetime(2022, 9, 1),\n",
    ")\n",
    "\n",
    "bars = crypto_client.get_crypto_bars(request_params)\n",
    "\n",
    "# convert to dataframe\n",
    "bars.df\n",
    "\n",
    "# access bars as list - important to note that you must access by symbol key\n",
    "# even for a single symbol request - models are agnostic to number of symbols\n",
    "bars[\"BTC/USD\"]"
   ]
  }
 ],
 "metadata": {
  "kernelspec": {
   "display_name": "Python 3",
   "language": "python",
   "name": "python3"
  },
  "language_info": {
   "codemirror_mode": {
    "name": "ipython",
    "version": 3
   },
   "file_extension": ".py",
   "mimetype": "text/x-python",
   "name": "python",
   "nbconvert_exporter": "python",
   "pygments_lexer": "ipython3",
   "version": "3.11.2"
  },
  "orig_nbformat": 4
 },
 "nbformat": 4,
 "nbformat_minor": 2
}
